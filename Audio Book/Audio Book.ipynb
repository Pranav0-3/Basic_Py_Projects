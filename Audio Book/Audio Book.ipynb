{
 "cells": [
  {
   "cell_type": "code",
   "execution_count": null,
   "id": "55eef9a1",
   "metadata": {},
   "outputs": [],
   "source": [
    "import PyPDF2\n",
    "import pyttsx3\n",
    "\n",
    "pdfReader = PyPDF2.PdfFileReader(open(\"C:\\\\Users\\\\PranavA\\\\Downloads\\\\Books\\\\Atomic Habits.pdf\", 'rb'))\n",
    "# use double slash \"\\\\\" while mentioning the path/direction of the pdf file to avoid error.\n",
    "\n",
    "speaker = pyttsx3.init()\n",
    "\n",
    "for num_page in range(pdfReader.numPages):\n",
    "    text = pdfReader.getPage(num_page).extractText()\n",
    "    speaker.say(text)\n",
    "    speaker.runAndWait()\n",
    "\n",
    "speaker.stop()"
   ]
  },
  {
   "cell_type": "code",
   "execution_count": null,
   "id": "983635f2",
   "metadata": {},
   "outputs": [],
   "source": []
  }
 ],
 "metadata": {
  "kernelspec": {
   "display_name": "Python 3 (ipykernel)",
   "language": "python",
   "name": "python3"
  },
  "language_info": {
   "codemirror_mode": {
    "name": "ipython",
    "version": 3
   },
   "file_extension": ".py",
   "mimetype": "text/x-python",
   "name": "python",
   "nbconvert_exporter": "python",
   "pygments_lexer": "ipython3",
   "version": "3.10.5"
  }
 },
 "nbformat": 4,
 "nbformat_minor": 5
}
