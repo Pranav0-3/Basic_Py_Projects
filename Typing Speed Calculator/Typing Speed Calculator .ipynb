{
 "cells": [
  {
   "cell_type": "markdown",
   "id": "812b6494",
   "metadata": {},
   "source": [
    "# Typing Speed Calculator"
   ]
  },
  {
   "cell_type": "code",
   "execution_count": 1,
   "id": "5c414fc1",
   "metadata": {},
   "outputs": [
    {
     "name": "stdout",
     "output_type": "stream",
     "text": [
      "                       ********************  TYPING SPEED CALCULATOR  ********************\n",
      "\n",
      "Words per minute (WPM) is a measure of typing speed, commonly used in recruitment. For the purposes of WPM measurement a word is standardized to five characters or keystrokes. Therefore, 'brown' counts as one word, but 'accounted' counts as two. The benefits of a standardized measurement of input speed are that it enables comparison across language and hardware boundaries. The speed of an Afrikaans-speaking operator in Cape Town can be compared with a French-speaking operator in Paris. (Wikipedia)\n",
      "\n",
      "\n",
      "Enter: Words per minute (WPM) is a measure of typing speed, comminly used in recruitment. For the purpose of WPM measurement of WPM a word is a standardized to five characters of keystrokes. Therefore, 'brown' counts as one word, but 'accounted' counts as two. The benefits of a standardized measurement of input speed are that it enables comparison across language and hardware boundaries. The speed pf an Afrikaans-speaking operator in Cape Town can be comparred with a French-speaking operator in Paris. (Wikipediad).\n",
      "SPEED: 3 W/sec\n",
      "ERROR: 3\n"
     ]
    }
   ],
   "source": [
    "from time import *\n",
    "import random as r\n",
    "\n",
    "\n",
    "\n",
    "def mistake(paratest, usertest):\n",
    "    error = 0\n",
    "    for i in range(len(paratest)):\n",
    "        try:\n",
    "            if paratest[i] != usertest[i]:\n",
    "                error += 1 \n",
    "        except:\n",
    "            error += 1\n",
    "    return error\n",
    "\n",
    "\n",
    "\n",
    "def time_speed(time_s, time_e, userinput):\n",
    "    time_delay = time_e - time_s\n",
    "    time_R = round(time_delay, 2)\n",
    "    speed = len(userinput) / time_R\n",
    "    return round(speed)\n",
    "    \n",
    "    \n",
    "while True:\n",
    "    ck = input(\"Ready to Test - YES/NO: \")\n",
    "    if ck == \"YES\": \n",
    "    \n",
    "    \n",
    "        test = [\"There are many idiosyncratic typing styles in between novice-style 'hunt and peck' and touch typing. For example, many 'hunt and peck' typists have the keyboard layout memorized and are able to type while focusing their gaze on the screen. Some use just two fingers, while others use 3-6 fingers. Some use their fingers very consistently, with the same finger being used to type the same character every time, while others vary the way they use their fingers.\",\n",
    "                \"Engineers, as practitioners of engineering, are people who invent, design, analyze, build, and test machines, systems, structures and materials to fulfill objectives and requirements while considering the limitations imposed by practicality, regulation, safety, and cost. The work of engineers forms the link between scientific discoveries and their subsequent applications to human and business needs and quality of life\",\n",
    "                \"Words per minute (WPM) is a measure of typing speed, commonly used in recruitment. For the purposes of WPM measurement a word is standardized to five characters or keystrokes. Therefore, 'brown' counts as one word, but 'accounted' counts as two. The benefits of a standardized measurement of input speed are that it enables comparison across language and hardware boundaries. The speed of an Afrikaans-speaking operator in Cape Town can be compared with a French-speaking operator in Paris. (Wikipedia)\"]\n",
    "\n",
    "\n",
    "\n",
    "        test1 = r.choice(test)\n",
    "        print(\"                       ********************  TYPING SPEED CALCULATOR  ********************\\n\")\n",
    "        print(test1)\n",
    "        print()\n",
    "        print()\n",
    "\n",
    "\n",
    "\n",
    "        time_1 = time()\n",
    "        testinput=input(\"Enter:\\n\")\n",
    "        time_2 = time()\n",
    "\n",
    "\n",
    "\n",
    "        print(\"SPEED:\", time_speed(time_1, time_2, testinput), \"W/sec\")\n",
    "        print(\"ERROR:\", mistake(test1, testinput))\n",
    "    elif ck == \"NO\":\n",
    "        print(\"THANK YOU :)\")"
   ]
  },
  {
   "cell_type": "code",
   "execution_count": null,
   "id": "f839d5c4",
   "metadata": {},
   "outputs": [],
   "source": []
  }
 ],
 "metadata": {
  "kernelspec": {
   "display_name": "Python 3 (ipykernel)",
   "language": "python",
   "name": "python3"
  },
  "language_info": {
   "codemirror_mode": {
    "name": "ipython",
    "version": 3
   },
   "file_extension": ".py",
   "mimetype": "text/x-python",
   "name": "python",
   "nbconvert_exporter": "python",
   "pygments_lexer": "ipython3",
   "version": "3.10.5"
  }
 },
 "nbformat": 4,
 "nbformat_minor": 5
}
